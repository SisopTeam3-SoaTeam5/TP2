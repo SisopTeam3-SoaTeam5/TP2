{
  "nbformat": 4,
  "nbformat_minor": 0,
  "metadata": {
    "colab": {
      "name": "Cuaderno_2_Grupo_5_2021.ipynb",
      "provenance": [],
      "collapsed_sections": [],
      "include_colab_link": true
    },
    "kernelspec": {
      "name": "python3",
      "display_name": "Python 3"
    },
    "language_info": {
      "name": "python"
    },
    "accelerator": "GPU"
  },
  "cells": [
    {
      "cell_type": "markdown",
      "metadata": {
        "id": "view-in-github",
        "colab_type": "text"
      },
      "source": [
        "<a href=\"https://colab.research.google.com/github/SisopTeam3-SoaTeam5/TP2/blob/main/HPC/Cuaderno_2_Grupo_5_2021.ipynb\" target=\"_parent\"><img src=\"https://colab.research.google.com/assets/colab-badge.svg\" alt=\"Open In Colab\"/></a>"
      ]
    },
    {
      "cell_type": "markdown",
      "metadata": {
        "id": "fZ7gAKdesh6x"
      },
      "source": [
        "#Introduccion \n",
        "Se eligio hacer un fragmento del problema de n-body, que consiste en calcular la posicion de particulos en base a la fuerzas gravitatorias ejercidad entre ellas. El fragmento elegido consiste en el calculo de la acelaracion de cada particula del sistema en consecuencia de las demas. Se observa en este ejercicio, que ademas de las ventajas de aplicar paralelismo para un gran volumen de datos (las particulas) las desventajas de este si el volumen de datos es pequeño.\n",
        "\n",
        "Como ya se menciono se utiliza HPC para facilitar la ejecucion de un algoritmo que es sencillo pero conlleva gran volumen de datos."
      ]
    },
    {
      "cell_type": "code",
      "metadata": {
        "colab": {
          "base_uri": "https://localhost:8080/"
        },
        "id": "tA83ztldlp8R",
        "outputId": "f6155588-6497-4a1a-811a-ae49db57dcb4"
      },
      "source": [
        "#@title ## Armado del ambiente\n",
        "#@markdown ---\n",
        "#@markdown ### Especifique la cantidad de particulas en el sistema:\n",
        "N =  1000#@param {type:\"number\"}\n",
        "\n",
        "!pip install pycuda"
      ],
      "execution_count": null,
      "outputs": [
        {
          "output_type": "stream",
          "name": "stdout",
          "text": [
            "Collecting pycuda\n",
            "  Downloading pycuda-2021.1.tar.gz (1.7 MB)\n",
            "\u001b[K     |████████████████████████████████| 1.7 MB 5.5 MB/s \n",
            "\u001b[?25h  Installing build dependencies ... \u001b[?25l\u001b[?25hdone\n",
            "  Getting requirements to build wheel ... \u001b[?25l\u001b[?25hdone\n",
            "    Preparing wheel metadata ... \u001b[?25l\u001b[?25hdone\n",
            "Requirement already satisfied: appdirs>=1.4.0 in /usr/local/lib/python3.7/dist-packages (from pycuda) (1.4.4)\n",
            "Collecting mako\n",
            "  Downloading Mako-1.1.6-py2.py3-none-any.whl (75 kB)\n",
            "\u001b[K     |████████████████████████████████| 75 kB 3.9 MB/s \n",
            "\u001b[?25hCollecting pytools>=2011.2\n",
            "  Downloading pytools-2021.2.9.tar.gz (66 kB)\n",
            "\u001b[K     |████████████████████████████████| 66 kB 4.2 MB/s \n",
            "\u001b[?25hRequirement already satisfied: numpy>=1.6.0 in /usr/local/lib/python3.7/dist-packages (from pytools>=2011.2->pycuda) (1.19.5)\n",
            "Requirement already satisfied: MarkupSafe>=0.9.2 in /usr/local/lib/python3.7/dist-packages (from mako->pycuda) (2.0.1)\n",
            "Building wheels for collected packages: pycuda, pytools\n",
            "  Building wheel for pycuda (PEP 517) ... \u001b[?25l\u001b[?25hdone\n",
            "  Created wheel for pycuda: filename=pycuda-2021.1-cp37-cp37m-linux_x86_64.whl size=627661 sha256=de2b74f4ffec68e5cea63cc113b457b403085d6a235ad09325fff841ae06e985\n",
            "  Stored in directory: /root/.cache/pip/wheels/c4/ef/49/dc6a5feb8d980b37c83d465ecab24949a6aa19458522a9e001\n",
            "  Building wheel for pytools (setup.py) ... \u001b[?25l\u001b[?25hdone\n",
            "  Created wheel for pytools: filename=pytools-2021.2.9-py2.py3-none-any.whl size=62370 sha256=47c3342df47395fc53e52411ce20edf04c911f8b0149988f028ba6d11dda23a3\n",
            "  Stored in directory: /root/.cache/pip/wheels/41/b9/6e/94bb014f6484b15ec77e7877f3a227609481ffd98db364504d\n",
            "Successfully built pycuda pytools\n",
            "Installing collected packages: pytools, mako, pycuda\n",
            "Successfully installed mako-1.1.6 pycuda-2021.1 pytools-2021.2.9\n"
          ]
        }
      ]
    },
    {
      "cell_type": "code",
      "metadata": {
        "id": "Tw2NexVqtVt_",
        "colab": {
          "base_uri": "https://localhost:8080/"
        },
        "outputId": "1e81b042-168d-4ee7-f226-711432e4cf75"
      },
      "source": [
        "try:\n",
        "\tfrom datetime import datetime\n",
        "\n",
        "\t######### Ejecucion secuencial #############\n",
        "\n",
        "\ttiempo_total_cpu = datetime.now()\n",
        "\timport numpy\n",
        "\timport sys\n",
        "\timport pycuda.driver as cuda\n",
        "\timport pycuda.autoinit\n",
        "\tfrom pycuda.compiler import SourceModule\n",
        "\n",
        "\ttiempo_en_ms = lambda dt:(dt.days * 24 * 60 * 60 + dt.seconds) * 1000 + dt.microseconds / 1000.0 #Funcion para ver el tiempo en ms\n",
        "\n",
        "\tpos  = numpy.random.randn(N,3) #Se define una Matriz de N particulas con la posicion en los 3 ejes (x, y, z) con valores random\n",
        "\tmass=numpy.random.rand(N) #La masa de cada particula N tambien random\n",
        " \n",
        "\tG=9.8 #constante de gravedad\n",
        "\n",
        "\tsoftening=0.1 #variable para corregir el error de presicion q se puede generar\n",
        "\n",
        "\tacc=numpy.array([[0.0,0.0,0.0],\n",
        "\t\t\t\t\t\t\t\t[0.0,0.0,0.0],\n",
        "\t\t\t\t\t\t\t\t[0.0,0.0,0.0]])\n",
        "\n",
        "\tN = pos.shape[0];\n",
        "\ta = numpy.zeros((N,3));\n",
        "\n",
        "\ttiempo_particulas_cpu = datetime.now()\n",
        "\n",
        "#Por cada particula j, calcular la aceleracion que genera en todo el resto de particulas\n",
        "\tfor i in range(N):\n",
        "\t\tfor j in range(N):\n",
        "\t\t\tdx = pos[j,0] - pos[i,0];\n",
        "\t\t\tdy = pos[j,1] - pos[i,1];\n",
        "\t\t\tdz = pos[j,2] - pos[i,2];\n",
        "\t\t\tinv_r3 = (dx**2 + dy**2 + dz**2 + softening**2)**(-1.5);\n",
        "\t\t\ta[i,0] +=  G * (dx * inv_r3) * mass[j];\n",
        "\t\t\ta[i,1] +=  G * (dy * inv_r3) * mass[j];\n",
        "\t\t\ta[i,2] +=  G * (dz * inv_r3) * mass[j];\n",
        "\n",
        "\ttiempo_particulas_cpu = datetime.now() - tiempo_particulas_cpu\n",
        "\n",
        "\ttiempo_total_cpu = datetime.now() - tiempo_total_cpu\n",
        "\n",
        "\tprint('Metricas CPU:')\n",
        "\tprint( \"Tiempo de medicion de particulas\", tiempo_en_ms( tiempo_particulas_cpu   ), \"[ms]\" )\n",
        "\tprint( \"Tiempo Total:\",                   tiempo_en_ms( tiempo_total_cpu ), \"[ms]\" )\n",
        "\n",
        "\tprint('~~~~~~~~')\n",
        "\n",
        "\n",
        "\n",
        "\t######### Ejecucion paralela #############\n",
        "\n",
        "\ttiempo_total_gpu = datetime.now()\n",
        "\n",
        "\n",
        "\n",
        "\tposCPU= pos\n",
        "\n",
        "\tposCPU = posCPU.astype(numpy.float32())\n",
        "\n",
        "\tmassCPU= mass\n",
        "\tmassCPU = massCPU.astype(numpy.float32())\n",
        "\n",
        "\n",
        "\taccCPU= numpy.zeros((N,3));\n",
        "\taccCPU = accCPU.astype(numpy.float32())\n",
        "\n",
        "\taccFinal=numpy.empty_like(accCPU)\n",
        "\n",
        "\n",
        "\tposGPU = cuda.mem_alloc( posCPU.nbytes )\n",
        "\taccGPU = cuda.mem_alloc( accCPU.nbytes )\n",
        "\tmassGPU = cuda.mem_alloc( massCPU.nbytes )\n",
        "\n",
        "\tcuda.memcpy_htod( posGPU, posCPU )\n",
        "\tcuda.memcpy_htod( accGPU, accCPU )\n",
        "\tcuda.memcpy_htod( massGPU, massCPU )\n",
        "\n",
        "\tmodule = SourceModule(\"\"\"\n",
        "\t__global__ void kernel_n_body( int cantidad, float *pos,float G, float *mass,float *acc, float softening)\n",
        "\t{\n",
        "\t\tint idx = threadIdx.x + blockIdx.x*blockDim.x; //Equivalente a j en ejecucion secuencial\n",
        "\t\tint idy = threadIdx.y + blockIdx.y*blockDim.y; //Equivalente a i en ejecucion secuencial\n",
        "\t\tif(idx<cantidad && idy<cantidad){\n",
        "\t\t\t\tfloat dx= pos[idx*3] - pos[idy*3];\n",
        "\t\t\t\tfloat dy=pos[idx*3+1]-pos[idy*3+1];\n",
        "\t\t\t\tfloat dz=pos[idx*3+2]-pos[idy*3+2];\n",
        "\t\t\t\tfloat inv_r3 = ( powf(dx,2) +  powf(dy,2) +  powf(dz,2) + powf(softening,2));\n",
        "\t\t\t\tinv_r3=powf(inv_r3,-1.5);\n",
        "\n",
        "\t\t\t\tatomicAdd(&acc[idy*3],  G * (dx * inv_r3) * mass[idx]); //Esta funcion se utiliza para que se acumulen todos los resultados de todos los hilos sin problemas\n",
        "\t\t\t\tatomicAdd(&acc[idy*3+1],  G * (dy * inv_r3) * mass[idx]); \n",
        "\t\t\t\tatomicAdd(&acc[idy*3+2],  G * (dz * inv_r3) * mass[idx]);\n",
        "\n",
        "\t\t}\n",
        "\t}\n",
        "\t\"\"\")\n",
        "\n",
        "\tkernel = module.get_function(\"kernel_n_body\")\n",
        "\tdim_hilo_x = 16\n",
        "\tdim_bloque_x = numpy.int( (pos.shape[0]+dim_hilo_x-1) / dim_hilo_x )\n",
        "\tdim_hilo_y = 16\n",
        "\tdim_bloque_y = numpy.int( (pos.shape[0]+dim_hilo_y-1) / dim_hilo_y)\n",
        "\n",
        "\ttiempo_particulas_gpu = datetime.now()\n",
        "\tkernel( numpy.int32(posCPU.shape[0]) ,posGPU,numpy.float32(G),massGPU,accGPU,numpy.float32(softening),block=( dim_hilo_x, dim_hilo_y, 1 ), grid=(dim_bloque_x, dim_bloque_y,1) )\n",
        "\ttiempo_particulas_gpu = datetime.now() - tiempo_particulas_gpu\n",
        "\n",
        "\tcuda.memcpy_dtoh( accFinal, accGPU )\n",
        "\n",
        "\n",
        "\ttiempo_total_gpu = datetime.now() - tiempo_total_gpu\n",
        "\n",
        "\n",
        "\tprint('Metricas GPU:')\n",
        "\tprint( \"Tiempo de medicion de particulas GPU\", tiempo_en_ms( tiempo_particulas_gpu   ), \"[ms]\" )\n",
        "\tprint( \"Tiempo Total GPU:\",                   tiempo_en_ms( tiempo_total_gpu ), \"[ms]\" )\n",
        "\tprint('-----------------------------------------------------')\n",
        "\tprint('Matriz secuencial: ')\n",
        "\tprint(a)\n",
        "\tprint('-----------------------------------------------------')\n",
        "\tprint('Matriz paralelismo: ')\n",
        "\tprint(accFinal)\n",
        "except:\n",
        "\t print(\"Ha ocurrido un error en la ejecución. Asegúrese de ejecutar la sección correspondiente al armado del ambiente\")"
      ],
      "execution_count": null,
      "outputs": [
        {
          "output_type": "stream",
          "name": "stdout",
          "text": [
            "Metricas CPU:\n",
            "Tiempo de medicion de particulas 6662.812 [ms]\n",
            "Tiempo Total: 6884.92 [ms]\n",
            "~~~~~~~~\n",
            "Metricas GPU:\n",
            "Tiempo de medicion de particulas GPU 1.736 [ms]\n",
            "Tiempo Total GPU: 932.738 [ms]\n",
            "-----------------------------------------------------\n",
            "Matriz secuencial: \n",
            "[[ 255.8221776   252.13606019  879.45344437]\n",
            " [-426.85879421 -584.1718609  -436.65765442]\n",
            " [-251.86147248  457.35255704 -283.83483183]\n",
            " ...\n",
            " [-283.70358745 -709.27817855  417.56056736]\n",
            " [ 158.65378823  761.04914213  467.69526304]\n",
            " [ 770.30435392  841.99740068 -215.44628153]]\n",
            "-----------------------------------------------------\n",
            "Matriz paralelismo: \n",
            "[[ 255.82227  252.13612  879.4532 ]\n",
            " [-426.8586  -584.1718  -436.6576 ]\n",
            " [-251.86151  457.35263 -283.8351 ]\n",
            " ...\n",
            " [-283.7036  -709.2788   417.56067]\n",
            " [ 158.65375  761.0488   467.6953 ]\n",
            " [ 770.30457  841.9976  -215.44609]]\n"
          ]
        },
        {
          "output_type": "stream",
          "name": "stderr",
          "text": [
            "/usr/local/lib/python3.7/dist-packages/ipykernel_launcher.py:96: UserWarning: The CUDA compiler succeeded, but said the following:\n",
            "nvcc warning : The 'compute_35', 'compute_37', 'compute_50', 'sm_35', 'sm_37' and 'sm_50' architectures are deprecated, and may be removed in a future release (Use -Wno-deprecated-gpu-targets to suppress warning).\n",
            "\n"
          ]
        }
      ]
    },
    {
      "cell_type": "markdown",
      "metadata": {
        "id": "8xMdJPrusdG5"
      },
      "source": [
        "#Conclusiones \n",
        "Es inevitable notar que para valores altos en número de partículas el procesamiento en GPU es mucho más corto en tiempo, y al no ser mucho más complejo de desarrollar no existe ninguna desventaja en usarlo. Sin embargo se debe tener en cuenta que para valores bajos, como 2 partículas, el tiempo invertido en copiar los datos a memoria hace que no valga la pena procesar en GPU, ya que siendo tan pocos datos la CPU puede procesarlos rápidamente, y al final el conjunto es más lento en GPU. \n",
        "\n",
        "Cabe destacar que solo nos centramos en la parte paralela de calcular las aceleraciones, si se quisiera calcular también la posición en cada instante se debería realizar este proceso para cada momento, y modificar la matriz de posiciones con las aceleraciones obtenidas. En ese caso, al tener que calcular muchas veces la aceleración, las diferencias en tiempo serían mucho mas notorias. Para 5 instantes de tiempo el tiempo ahorrado sería 5 veces el tiempo ahorrado para un instante único como el de eset cuaderno."
      ]
    },
    {
      "cell_type": "markdown",
      "metadata": {
        "id": "Pl_bqPyv1R46"
      },
      "source": [
        "#Bibliografia\n",
        "\n",
        "1.\tWaldo Valiente, “Prueba 2 - Imagen - GPU”, \t\t\t\t\t\n",
        "  Disponible en: https://github.com/wvaliente/SOA_HPC/blob/main/Ejercicios/Prueba%202%20-%20Imagen%20-%20GPU.ipynb [Accedido: 18/11/2021]\n",
        "\n",
        "2.\ttalonmies, “CUDA incrementing global device counter within a kernel”, Disponible en: https://stackoverflow.com/questions/35673928/cuda-incrementing-global-device-counter-within-a-kernel [Accedido: 22/11/2021]\n",
        "\n",
        "3. John H. Reif and Stephen R. Tate, “Efficient N-body Simulation: Fast Algorithms for Potential Field Evaluation and Trummer’s Problem” Disponible en: https://users.cs.duke.edu/~reif/paper/tate/nbody.pdf [Accedido: 20/11/2021]\n",
        "\n",
        "4. Alexander G. Gray and Andrew W. Moore , “‘N-Body’ Problems in Statistical Learning”, Disponible en: https://proceedings.neurips.cc/paper/2000/file/7385db9a3f11415bc0e9e2625fae3734-Paper.pdf [Accedido: 20/11/2021]\n",
        "\n",
        "5. Philip Mocz, “Create Your Own N-body Simulation (With Python)”, Disponible en:  https://medium.com/swlh/create-your-own-n-body-simulation-with-python-f417234885e9 [Accedido: 20/11/2021]"
      ]
    }
  ]
}